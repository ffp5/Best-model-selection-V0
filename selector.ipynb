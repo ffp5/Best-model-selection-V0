{
 "cells": [
  {
   "cell_type": "markdown",
   "metadata": {},
   "source": [
    "# Model Performance Evaluation\n",
    "This notebook evaluates the performance of different models based on their predictions. It processes JSON files from zip archives, combines the data into a DataFrame, and creates a pivot table to compare model performances."
   ]
  },
  {
   "cell_type": "code",
   "execution_count": 4,
   "metadata": {},
   "outputs": [],
   "source": [
    "import json\n",
    "import pandas as pd\n",
    "import zipfile\n",
    "import os\n",
    "import logging\n",
    "from sentence_transformers import SentenceTransformer\n",
    "from sklearn.metrics.pairwise import cosine_similarity\n",
    "import numpy as np"
   ]
  },
  {
   "cell_type": "markdown",
   "metadata": {},
   "source": [
    "## Load JSON Files from Zip Archives\n",
    "This function loads JSON files from a specified zip archive and returns the data as a list of dictionaries."
   ]
  },
  {
   "cell_type": "code",
   "execution_count": 5,
   "metadata": {},
   "outputs": [],
   "source": [
    "def load_json_from_zip(zip_path):\n",
    "    data = []\n",
    "    with zipfile.ZipFile(zip_path, 'r') as zip_ref:\n",
    "        for file_name in zip_ref.namelist():\n",
    "            with zip_ref.open(file_name) as file:\n",
    "                json_data = json.load(file)\n",
    "                if isinstance(json_data, dict):\n",
    "                    data.append(json_data)\n",
    "                elif isinstance(json_data, list):\n",
    "                    for item in json_data:\n",
    "                        if isinstance(item, dict):\n",
    "                            data.append(item)\n",
    "                        else:\n",
    "                            logging.warning(f\"Skipping non-dictionary item of type {type(item)} in list in file {file_name}\")\n",
    "                else:\n",
    "                    logging.warning(f\"Skipping non-dictionary or non-list item of type {type(json_data)} in file {file_name}\")\n",
    "    return data"
   ]
  },
  {
   "cell_type": "markdown",
   "metadata": {},
   "source": [
    "## Combine Data from All Zip Files\n",
    "This section lists all zip files in the `eval_results` directory, loads their data, and combines it into a single DataFrame."
   ]
  },
  {
   "cell_type": "code",
   "execution_count": 6,
   "metadata": {},
   "outputs": [],
   "source": [
    "# Directory containing the zip files\n",
    "eval_results_dir = 'eval_results'\n",
    "\n",
    "# List all zip files in the directory\n",
    "zip_files = [f for f in os.listdir(eval_results_dir) if f.endswith('.zip')]\n",
    "\n",
    "# Combine all data into a single DataFrame\n",
    "all_data = []\n",
    "for zip_file in zip_files:\n",
    "    zip_path = os.path.join(eval_results_dir, zip_file)\n",
    "    data = load_json_from_zip(zip_path)\n",
    "    for item in data:\n",
    "        df = pd.DataFrame(item)\n",
    "        model_name = os.path.splitext(zip_file)[0].split('_')[2]\n",
    "        df['model'] = model_name\n",
    "        all_data.append(df)\n",
    "\n",
    "# Combine all DataFrames into a single DataFrame\n",
    "combined_df = pd.concat(all_data, ignore_index=True)"
   ]
  },
  {
   "cell_type": "markdown",
   "metadata": {},
   "source": [
    "## Ensure Required Columns Exist\n",
    "Check that the combined DataFrame contains the 'question' and 'answer' columns."
   ]
  },
  {
   "cell_type": "code",
   "execution_count": 7,
   "metadata": {},
   "outputs": [],
   "source": [
    "# Ensure 'question' and 'answer' columns exist\n",
    "if 'question' not in combined_df.columns or 'answer' not in combined_df.columns:\n",
    "    raise ValueError(\"The data must contain 'question' and 'answer' columns\")"
   ]
  },
  {
   "cell_type": "markdown",
   "metadata": {},
   "source": [
    "## Create Pivot Table\n",
    "Create a pivot table with questions as rows and models as columns, showing the performance of each model."
   ]
  },
  {
   "cell_type": "code",
   "execution_count": 8,
   "metadata": {},
   "outputs": [],
   "source": [
    "# Create a pivot table with questions as rows and models as columns\n",
    "pivot_df = combined_df.pivot_table(\n",
    "    index='question', \n",
    "    columns='model', \n",
    "    values='pred', \n",
    "    aggfunc=lambda x: (x == combined_df.loc[x.index, 'answer']).astype(int).max(), \n",
    "    fill_value=0\n",
    ")\n",
    "\n",
    "# Save the pivot table to a CSV file\n",
    "pivot_df.to_pickle('model_performance.pkl')"
   ]
  },
  {
   "cell_type": "markdown",
   "metadata": {},
   "source": [
    "## Load and Display Model Outputs\n",
    "Load the JSON file containing model outputs and display the first few rows of the DataFrame."
   ]
  },
  {
   "cell_type": "code",
   "execution_count": 9,
   "metadata": {},
   "outputs": [
    {
     "data": {
      "text/html": [
       "<div>\n",
       "<style scoped>\n",
       "    .dataframe tbody tr th:only-of-type {\n",
       "        vertical-align: middle;\n",
       "    }\n",
       "\n",
       "    .dataframe tbody tr th {\n",
       "        vertical-align: top;\n",
       "    }\n",
       "\n",
       "    .dataframe thead th {\n",
       "        text-align: right;\n",
       "    }\n",
       "</style>\n",
       "<table border=\"1\" class=\"dataframe\">\n",
       "  <thead>\n",
       "    <tr style=\"text-align: right;\">\n",
       "      <th></th>\n",
       "      <th>question_id</th>\n",
       "      <th>question</th>\n",
       "      <th>options</th>\n",
       "      <th>answer</th>\n",
       "      <th>answer_index</th>\n",
       "      <th>cot_content</th>\n",
       "      <th>category</th>\n",
       "      <th>src</th>\n",
       "      <th>pred</th>\n",
       "      <th>generated_text</th>\n",
       "    </tr>\n",
       "  </thead>\n",
       "  <tbody>\n",
       "    <tr>\n",
       "      <th>0</th>\n",
       "      <td>70</td>\n",
       "      <td>Typical advertising regulatory bodies suggest,...</td>\n",
       "      <td>[Safe practices, Fear, Jealousy, Trivial, Unsa...</td>\n",
       "      <td>I</td>\n",
       "      <td>8</td>\n",
       "      <td></td>\n",
       "      <td>business</td>\n",
       "      <td>ori_mmlu-business_ethics</td>\n",
       "      <td>I</td>\n",
       "      <td>We refer to Wikipedia articles on advertising...</td>\n",
       "    </tr>\n",
       "    <tr>\n",
       "      <th>1</th>\n",
       "      <td>71</td>\n",
       "      <td>Managers are entrusted to run the company in t...</td>\n",
       "      <td>[Shareholders, Diligence, Self-interest, Share...</td>\n",
       "      <td>F</td>\n",
       "      <td>5</td>\n",
       "      <td></td>\n",
       "      <td>business</td>\n",
       "      <td>ori_mmlu-business_ethics</td>\n",
       "      <td>B</td>\n",
       "      <td>We refer to Wikipedia articles on business et...</td>\n",
       "    </tr>\n",
       "    <tr>\n",
       "      <th>2</th>\n",
       "      <td>72</td>\n",
       "      <td>There are two main issues associated with ____...</td>\n",
       "      <td>[Down, Autonomy, Remuneration, Benefit, Down, ...</td>\n",
       "      <td>J</td>\n",
       "      <td>9</td>\n",
       "      <td></td>\n",
       "      <td>business</td>\n",
       "      <td>ori_mmlu-business_ethics</td>\n",
       "      <td>A</td>\n",
       "      <td>We refer to Wikipedia articles on business et...</td>\n",
       "    </tr>\n",
       "    <tr>\n",
       "      <th>3</th>\n",
       "      <td>73</td>\n",
       "      <td>_______ locate morality beyond the sphere of r...</td>\n",
       "      <td>[Ethical egoism, Ethics of duty, Postmodern et...</td>\n",
       "      <td>C</td>\n",
       "      <td>2</td>\n",
       "      <td></td>\n",
       "      <td>business</td>\n",
       "      <td>ori_mmlu-business_ethics</td>\n",
       "      <td>H</td>\n",
       "      <td>We refer to Wikipedia articles on ethics for ...</td>\n",
       "    </tr>\n",
       "    <tr>\n",
       "      <th>4</th>\n",
       "      <td>74</td>\n",
       "      <td>Some of key differences between Islamic finan...</td>\n",
       "      <td>[Interest, Certain, Assured, Both tangible and...</td>\n",
       "      <td>G</td>\n",
       "      <td>6</td>\n",
       "      <td></td>\n",
       "      <td>business</td>\n",
       "      <td>ori_mmlu-business_ethics</td>\n",
       "      <td>A</td>\n",
       "      <td>We refer to Wikipedia articles on Islamic fin...</td>\n",
       "    </tr>\n",
       "  </tbody>\n",
       "</table>\n",
       "</div>"
      ],
      "text/plain": [
       "   question_id                                           question  \\\n",
       "0           70  Typical advertising regulatory bodies suggest,...   \n",
       "1           71  Managers are entrusted to run the company in t...   \n",
       "2           72  There are two main issues associated with ____...   \n",
       "3           73  _______ locate morality beyond the sphere of r...   \n",
       "4           74   Some of key differences between Islamic finan...   \n",
       "\n",
       "                                             options answer  answer_index  \\\n",
       "0  [Safe practices, Fear, Jealousy, Trivial, Unsa...      I             8   \n",
       "1  [Shareholders, Diligence, Self-interest, Share...      F             5   \n",
       "2  [Down, Autonomy, Remuneration, Benefit, Down, ...      J             9   \n",
       "3  [Ethical egoism, Ethics of duty, Postmodern et...      C             2   \n",
       "4  [Interest, Certain, Assured, Both tangible and...      G             6   \n",
       "\n",
       "  cot_content  category                       src pred  \\\n",
       "0              business  ori_mmlu-business_ethics    I   \n",
       "1              business  ori_mmlu-business_ethics    B   \n",
       "2              business  ori_mmlu-business_ethics    A   \n",
       "3              business  ori_mmlu-business_ethics    H   \n",
       "4              business  ori_mmlu-business_ethics    A   \n",
       "\n",
       "                                      generated_text  \n",
       "0   We refer to Wikipedia articles on advertising...  \n",
       "1   We refer to Wikipedia articles on business et...  \n",
       "2   We refer to Wikipedia articles on business et...  \n",
       "3   We refer to Wikipedia articles on ethics for ...  \n",
       "4   We refer to Wikipedia articles on Islamic fin...  "
      ]
     },
     "execution_count": 9,
     "metadata": {},
     "output_type": "execute_result"
    }
   ],
   "source": [
    "# Load the JSON file\n",
    "with open('model_outputs_Meta-Llama-3-8B-Instruct_5shots.json', 'r') as file:\n",
    "    data = json.load(file)\n",
    "\n",
    "# Convert the data to a DataFrame\n",
    "df = pd.DataFrame(data)\n",
    "df.head()"
   ]
  },
  {
   "cell_type": "markdown",
   "metadata": {},
   "source": [
    "## Compute Embeddings for Questions\n",
    "Load the embedding model and compute embeddings for the questions."
   ]
  },
  {
   "cell_type": "code",
   "execution_count": 10,
   "metadata": {},
   "outputs": [],
   "source": [
    "# Load the embedding model\n",
    "model = SentenceTransformer('all-MiniLM-L6-v2')\n",
    "\n",
    "# Compute embeddings for existing questions\n",
    "df['embedding'] = df['question'].apply(lambda x: model.encode(x))\n",
    "# Create a new DataFrame with only 'question' and 'embedding' columns\n",
    "df_questions_embeddings = df[['question', 'embedding']]\n",
    "\n",
    "df_questions_embeddings.to_pickle('questions_embeddings.pkl')"
   ]
  },
  {
   "cell_type": "markdown",
   "metadata": {},
   "source": [
    "## Find Similar Questions\n",
    "Prompt the user for an input question, compute its embedding, and find the top 20 most similar questions."
   ]
  },
  {
   "cell_type": "code",
   "execution_count": 11,
   "metadata": {},
   "outputs": [
    {
     "name": "stdout",
     "output_type": "stream",
     "text": [
      "Top 3 models for the input question:\n",
      "model\n",
      "Meta-Llama-3         0.80\n",
      "arx                  0.80\n",
      "gpt-4o-2024-08-06    0.75\n",
      "dtype: float64\n"
     ]
    }
   ],
   "source": [
    "df_similarity = pd.read_pickle('questions_embeddings.pkl')\n",
    "\n",
    "# Prompt user for input question\n",
    "input_question = input(\"Enter your question: \")\n",
    "\n",
    "# Compute embedding for input question\n",
    "input_embedding = model.encode(input_question)\n",
    "\n",
    "# Compute similarities\n",
    "df_similarity['similarity'] = df_similarity['embedding'].apply(lambda x: cosine_similarity([input_embedding], [x])[0][0])\n",
    "\n",
    "# Find the top 20 most similar questions\n",
    "top20 = df_similarity.nlargest(20, 'similarity')\n",
    "\n",
    "# Load the model performance data\n",
    "df_performance = pd.read_pickle('model_performance.pkl')\n",
    "\n",
    "# Filter the performance data for the top 20 questions\n",
    "top20_questions = top20['question'].values\n",
    "df_top20_performance = df_performance[df_performance.index.isin(top20_questions)]\n",
    "\n",
    "# Calculate the mean performance for each model\n",
    "model_performance = df_top20_performance.mean().sort_values(ascending=False)\n",
    "\n",
    "# Select the top 3 models\n",
    "top3_models = model_performance.head(3)\n",
    "\n",
    "# Display the top 3 models\n",
    "print(\"Top 3 models for the input question:\")\n",
    "print(top3_models)"
   ]
  }
 ],
 "metadata": {
  "kernelspec": {
   "display_name": "venv",
   "language": "python",
   "name": "python3"
  },
  "language_info": {
   "codemirror_mode": {
    "name": "ipython",
    "version": 3
   },
   "file_extension": ".py",
   "mimetype": "text/x-python",
   "name": "python",
   "nbconvert_exporter": "python",
   "pygments_lexer": "ipython3",
   "version": "3.11.11"
  }
 },
 "nbformat": 4,
 "nbformat_minor": 2
}
